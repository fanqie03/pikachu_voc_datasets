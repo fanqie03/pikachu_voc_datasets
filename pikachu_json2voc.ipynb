{
 "cells": [
  {
   "cell_type": "code",
   "execution_count": 38,
   "metadata": {},
   "outputs": [],
   "source": [
    "import json\n",
    "import pandas as pd\n",
    "from pascal_voc_writer import Writer\n",
    "import numpy as np\n",
    "import os\n",
    "from easydict import EasyDict as edict\n",
    "import cv2\n",
    "from pathlib import Path"
   ]
  },
  {
   "cell_type": "code",
   "execution_count": 71,
   "metadata": {},
   "outputs": [],
   "source": [
    "def load_json(root):\n",
    "    root = Path(root)\n",
    "    j = root/'annotations.json'\n",
    "    x = edict(json.load(open(j)))\n",
    "    ret = []\n",
    "    for key, value in x.items():\n",
    "        filename = value.image\n",
    "        loc = value.loc\n",
    "        img = cv2.imread(str(root / 'images' / filename))\n",
    "        h, w, _ = img.shape\n",
    "        ret.append(dict(\n",
    "            x1=loc[0]*w,\n",
    "            y1=loc[1]*h,\n",
    "            x2=loc[2]*w,\n",
    "            y2=loc[3]*h,\n",
    "            filename=str(root)+'_'+filename,\n",
    "            clazz='pikachu',\n",
    "            h=h,\n",
    "            w=w\n",
    "        ))\n",
    "    \n",
    "    return pd.DataFrame(ret)"
   ]
  },
  {
   "cell_type": "code",
   "execution_count": 72,
   "metadata": {},
   "outputs": [
    {
     "data": {
      "text/plain": [
       "(     clazz             filename    h    w          x1          x2          y1  \\\n",
       " 0  pikachu  train_pikachu_1.png  256  256  154.814606  177.877472  102.899719   \n",
       " 1  pikachu  train_pikachu_2.png  256  256  107.353424  135.538528   66.457520   \n",
       " 2  pikachu  train_pikachu_3.png  256  256  115.174576  134.127289  113.109123   \n",
       " 3  pikachu  train_pikachu_4.png  256  256  144.392685  170.218719  112.707436   \n",
       " 4  pikachu  train_pikachu_5.png  256  256  135.966843  164.591370   89.815704   \n",
       " \n",
       "            y2  \n",
       " 0  137.070221  \n",
       " 1  107.662239  \n",
       " 2  145.583588  \n",
       " 3  144.572617  \n",
       " 4  122.388023  ,\n",
       "      clazz           filename    h    w          x1          x2          y1  \\\n",
       " 0  pikachu  val_pikachu_1.png  256  256   89.396286  110.914246  101.904282   \n",
       " 1  pikachu  val_pikachu_2.png  256  256  140.417374  174.420486   85.908524   \n",
       " 2  pikachu  val_pikachu_3.png  256  256  135.384720  163.016357   81.295319   \n",
       " 3  pikachu  val_pikachu_4.png  256  256  141.651154  170.642471   88.079170   \n",
       " 4  pikachu  val_pikachu_5.png  256  256  133.961731  163.120285  102.039360   \n",
       " \n",
       "            y2  \n",
       " 0  137.729584  \n",
       " 1  128.289383  \n",
       " 2  118.179321  \n",
       " 3  132.354355  \n",
       " 4  150.058945  )"
      ]
     },
     "execution_count": 72,
     "metadata": {},
     "output_type": "execute_result"
    }
   ],
   "source": [
    "train_ann = load_json('train')\n",
    "\n",
    "val_ann = load_json('val')\n",
    "train_ann.head(),val_ann.head()"
   ]
  },
  {
   "cell_type": "code",
   "execution_count": 77,
   "metadata": {},
   "outputs": [],
   "source": [
    "train_file = open('VOC/ImageSets/Main/train.txt', 'w')\n",
    "val_file = open('VOC/ImageSets/Main/val.txt', 'w')\n",
    "train_val_file = open('VOC/ImageSets/Main/train_val.txt', 'w')\n",
    "test_file = open('VOC/ImageSets/Main/test.txt', 'w')\n",
    "\n",
    "for i in train_ann.filename:\n",
    "    print(i.split('.')[0], file=train_file, flush=True)\n",
    "    print(i.split('.')[0], file=train_val_file, flush=True)\n",
    "for i in val_ann.filename:\n",
    "    print(i.split('.')[0], file=val_file, flush=True)\n",
    "    print(i.split('.')[0], file=test_file, flush=True)\n",
    "    print(i.split('.')[0], file=train_val_file, flush=True)"
   ]
  },
  {
   "cell_type": "code",
   "execution_count": 76,
   "metadata": {},
   "outputs": [
    {
     "name": "stdout",
     "output_type": "stream",
     "text": [
      "   1000    1000   21584\n"
     ]
    }
   ],
   "source": [
    "!rm -rf VOC\n",
    "!mkdir -p VOC/Annotations\n",
    "!mkdir -p VOC/ImageSets/Main\n",
    "!mkdir -p VOC/JPEGImages\n",
    "# !cp -r train/images/* VOC/JPEGImages/\n",
    "# !cp -r val/images/* VOC/JPEGImages/\n",
    "\n",
    "!for name in `ls val/images/*`; do cp ${name} VOC/JPEGImages/val_${name##*/}  ; done\n",
    "!for name in `ls train/images/*`; do cp ${name} VOC/JPEGImages/train_${name##*/}  ; done\n",
    "!ls VOC/JPEGImages/ | wc"
   ]
  },
  {
   "cell_type": "code",
   "execution_count": 94,
   "metadata": {},
   "outputs": [],
   "source": [
    "!for name in `ls VOC/JPEGImages/*`; do mv ${name} ${name%%.*}.jpg; done"
   ]
  },
  {
   "cell_type": "code",
   "execution_count": 93,
   "metadata": {},
   "outputs": [
    {
     "name": "stdout",
     "output_type": "stream",
     "text": [
      "w_learn/d2l-pytorch/data/pikachu/VOC/JPEGImages/train_pikachu_104.jpg\n"
     ]
    }
   ],
   "source": [
    "!a=w_learn/d2l-pytorch/data/pikachu/VOC/JPEGImages/train_pikachu_104.png; echo ${a%%.*}.jpg"
   ]
  },
  {
   "cell_type": "code",
   "execution_count": 80,
   "metadata": {},
   "outputs": [],
   "source": [
    "for i, row in train_ann.iterrows():\n",
    "    xml_filename=row.filename.split('.')[0] + '.xml'\n",
    "    xml_filepath='VOC/Annotations/'+xml_filename\n",
    "    writer = Writer(row.filename, row.w, row.h)\n",
    "    writer.addObject(row.clazz, row.x1, row.y1, row.x2, row.y2)\n",
    "    writer.save(xml_filepath)"
   ]
  },
  {
   "cell_type": "code",
   "execution_count": 81,
   "metadata": {},
   "outputs": [],
   "source": [
    "for i, row in val_ann.iterrows():\n",
    "    xml_filename=row.filename.split('.')[0] + '.xml'\n",
    "    xml_filepath='VOC/Annotations/'+xml_filename\n",
    "    writer = Writer(row.filename, row.w, row.h)\n",
    "    writer.addObject(row.clazz, row.x1, row.y1, row.x2, row.y2)\n",
    "    writer.save(xml_filepath)"
   ]
  },
  {
   "cell_type": "code",
   "execution_count": 82,
   "metadata": {},
   "outputs": [],
   "source": [
    "!zip -q -r pikachu_voc.zip VOC"
   ]
  },
  {
   "cell_type": "code",
   "execution_count": null,
   "metadata": {},
   "outputs": [],
   "source": []
  }
 ],
 "metadata": {
  "kernelspec": {
   "display_name": "Python 3",
   "language": "python",
   "name": "python3"
  },
  "language_info": {
   "codemirror_mode": {
    "name": "ipython",
    "version": 3
   },
   "file_extension": ".py",
   "mimetype": "text/x-python",
   "name": "python",
   "nbconvert_exporter": "python",
   "pygments_lexer": "ipython3",
   "version": "3.7.3"
  }
 },
 "nbformat": 4,
 "nbformat_minor": 4
}
